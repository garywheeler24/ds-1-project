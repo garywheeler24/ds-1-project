{
 "cells": [
  {
   "cell_type": "markdown",
   "metadata": {},
   "source": [
    "**IMPORTING DATA**"
   ]
  },
  {
   "cell_type": "code",
   "execution_count": 1,
   "metadata": {},
   "outputs": [],
   "source": [
    "# Importing Numpy, Pandas, and Dataset.\n",
    "\n",
    "import numpy as np\n",
    "import pandas as pd\n",
    "df = pd.read_csv('diabetic_readmission_data.csv')\n",
    "pd.options.display.max_columns = None"
   ]
  },
  {
   "cell_type": "code",
   "execution_count": 2,
   "metadata": {
    "scrolled": true
   },
   "outputs": [
    {
     "name": "stdout",
     "output_type": "stream",
     "text": [
      "<class 'pandas.core.frame.DataFrame'>\n",
      "RangeIndex: 101766 entries, 0 to 101765\n",
      "Data columns (total 50 columns):\n",
      "encounter_id                101766 non-null int64\n",
      "patient_nbr                 101766 non-null int64\n",
      "race                        101766 non-null object\n",
      "gender                      101766 non-null object\n",
      "age                         101766 non-null object\n",
      "weight                      101766 non-null object\n",
      "admission_type_id           101766 non-null int64\n",
      "discharge_disposition_id    101766 non-null int64\n",
      "admission_source_id         101766 non-null int64\n",
      "time_in_hospital            101766 non-null int64\n",
      "payer_code                  101766 non-null object\n",
      "medical_specialty           101766 non-null object\n",
      "num_lab_procedures          101766 non-null int64\n",
      "num_procedures              101766 non-null int64\n",
      "num_medications             101766 non-null int64\n",
      "number_outpatient           101766 non-null int64\n",
      "number_emergency            101766 non-null int64\n",
      "number_inpatient            101766 non-null int64\n",
      "diag_1                      101766 non-null object\n",
      "diag_2                      101766 non-null object\n",
      "diag_3                      101766 non-null object\n",
      "number_diagnoses            101766 non-null int64\n",
      "max_glu_serum               101766 non-null object\n",
      "A1Cresult                   101766 non-null object\n",
      "metformin                   101766 non-null object\n",
      "repaglinide                 101766 non-null object\n",
      "nateglinide                 101766 non-null object\n",
      "chlorpropamide              101766 non-null object\n",
      "glimepiride                 101766 non-null object\n",
      "acetohexamide               101766 non-null object\n",
      "glipizide                   101766 non-null object\n",
      "glyburide                   101766 non-null object\n",
      "tolbutamide                 101766 non-null object\n",
      "pioglitazone                101766 non-null object\n",
      "rosiglitazone               101766 non-null object\n",
      "acarbose                    101766 non-null object\n",
      "miglitol                    101766 non-null object\n",
      "troglitazone                101766 non-null object\n",
      "tolazamide                  101766 non-null object\n",
      "examide                     101766 non-null object\n",
      "citoglipton                 101766 non-null object\n",
      "insulin                     101766 non-null object\n",
      "glyburide-metformin         101766 non-null object\n",
      "glipizide-metformin         101766 non-null object\n",
      "glimepiride-pioglitazone    101766 non-null object\n",
      "metformin-rosiglitazone     101766 non-null object\n",
      "metformin-pioglitazone      101766 non-null object\n",
      "change                      101766 non-null object\n",
      "diabetesMed                 101766 non-null object\n",
      "readmitted                  101766 non-null object\n",
      "dtypes: int64(13), object(37)\n",
      "memory usage: 38.8+ MB\n"
     ]
    },
    {
     "data": {
      "text/html": [
       "<div>\n",
       "<style scoped>\n",
       "    .dataframe tbody tr th:only-of-type {\n",
       "        vertical-align: middle;\n",
       "    }\n",
       "\n",
       "    .dataframe tbody tr th {\n",
       "        vertical-align: top;\n",
       "    }\n",
       "\n",
       "    .dataframe thead th {\n",
       "        text-align: right;\n",
       "    }\n",
       "</style>\n",
       "<table border=\"1\" class=\"dataframe\">\n",
       "  <thead>\n",
       "    <tr style=\"text-align: right;\">\n",
       "      <th></th>\n",
       "      <th>encounter_id</th>\n",
       "      <th>patient_nbr</th>\n",
       "      <th>admission_type_id</th>\n",
       "      <th>discharge_disposition_id</th>\n",
       "      <th>admission_source_id</th>\n",
       "      <th>time_in_hospital</th>\n",
       "      <th>num_lab_procedures</th>\n",
       "      <th>num_procedures</th>\n",
       "      <th>num_medications</th>\n",
       "      <th>number_outpatient</th>\n",
       "      <th>number_emergency</th>\n",
       "      <th>number_inpatient</th>\n",
       "      <th>number_diagnoses</th>\n",
       "    </tr>\n",
       "  </thead>\n",
       "  <tbody>\n",
       "    <tr>\n",
       "      <th>count</th>\n",
       "      <td>1.017660e+05</td>\n",
       "      <td>1.017660e+05</td>\n",
       "      <td>101766.000000</td>\n",
       "      <td>101766.000000</td>\n",
       "      <td>101766.000000</td>\n",
       "      <td>101766.000000</td>\n",
       "      <td>101766.000000</td>\n",
       "      <td>101766.000000</td>\n",
       "      <td>101766.000000</td>\n",
       "      <td>101766.000000</td>\n",
       "      <td>101766.000000</td>\n",
       "      <td>101766.000000</td>\n",
       "      <td>101766.000000</td>\n",
       "    </tr>\n",
       "    <tr>\n",
       "      <th>mean</th>\n",
       "      <td>1.652016e+08</td>\n",
       "      <td>5.433040e+07</td>\n",
       "      <td>2.024006</td>\n",
       "      <td>3.715642</td>\n",
       "      <td>5.754437</td>\n",
       "      <td>4.395987</td>\n",
       "      <td>43.095641</td>\n",
       "      <td>1.339730</td>\n",
       "      <td>16.021844</td>\n",
       "      <td>0.369357</td>\n",
       "      <td>0.197836</td>\n",
       "      <td>0.635566</td>\n",
       "      <td>7.422607</td>\n",
       "    </tr>\n",
       "    <tr>\n",
       "      <th>std</th>\n",
       "      <td>1.026403e+08</td>\n",
       "      <td>3.869636e+07</td>\n",
       "      <td>1.445403</td>\n",
       "      <td>5.280166</td>\n",
       "      <td>4.064081</td>\n",
       "      <td>2.985108</td>\n",
       "      <td>19.674362</td>\n",
       "      <td>1.705807</td>\n",
       "      <td>8.127566</td>\n",
       "      <td>1.267265</td>\n",
       "      <td>0.930472</td>\n",
       "      <td>1.262863</td>\n",
       "      <td>1.933600</td>\n",
       "    </tr>\n",
       "    <tr>\n",
       "      <th>min</th>\n",
       "      <td>1.252200e+04</td>\n",
       "      <td>1.350000e+02</td>\n",
       "      <td>1.000000</td>\n",
       "      <td>1.000000</td>\n",
       "      <td>1.000000</td>\n",
       "      <td>1.000000</td>\n",
       "      <td>1.000000</td>\n",
       "      <td>0.000000</td>\n",
       "      <td>1.000000</td>\n",
       "      <td>0.000000</td>\n",
       "      <td>0.000000</td>\n",
       "      <td>0.000000</td>\n",
       "      <td>1.000000</td>\n",
       "    </tr>\n",
       "    <tr>\n",
       "      <th>25%</th>\n",
       "      <td>8.496119e+07</td>\n",
       "      <td>2.341322e+07</td>\n",
       "      <td>1.000000</td>\n",
       "      <td>1.000000</td>\n",
       "      <td>1.000000</td>\n",
       "      <td>2.000000</td>\n",
       "      <td>31.000000</td>\n",
       "      <td>0.000000</td>\n",
       "      <td>10.000000</td>\n",
       "      <td>0.000000</td>\n",
       "      <td>0.000000</td>\n",
       "      <td>0.000000</td>\n",
       "      <td>6.000000</td>\n",
       "    </tr>\n",
       "    <tr>\n",
       "      <th>50%</th>\n",
       "      <td>1.523890e+08</td>\n",
       "      <td>4.550514e+07</td>\n",
       "      <td>1.000000</td>\n",
       "      <td>1.000000</td>\n",
       "      <td>7.000000</td>\n",
       "      <td>4.000000</td>\n",
       "      <td>44.000000</td>\n",
       "      <td>1.000000</td>\n",
       "      <td>15.000000</td>\n",
       "      <td>0.000000</td>\n",
       "      <td>0.000000</td>\n",
       "      <td>0.000000</td>\n",
       "      <td>8.000000</td>\n",
       "    </tr>\n",
       "    <tr>\n",
       "      <th>75%</th>\n",
       "      <td>2.302709e+08</td>\n",
       "      <td>8.754595e+07</td>\n",
       "      <td>3.000000</td>\n",
       "      <td>4.000000</td>\n",
       "      <td>7.000000</td>\n",
       "      <td>6.000000</td>\n",
       "      <td>57.000000</td>\n",
       "      <td>2.000000</td>\n",
       "      <td>20.000000</td>\n",
       "      <td>0.000000</td>\n",
       "      <td>0.000000</td>\n",
       "      <td>1.000000</td>\n",
       "      <td>9.000000</td>\n",
       "    </tr>\n",
       "    <tr>\n",
       "      <th>max</th>\n",
       "      <td>4.438672e+08</td>\n",
       "      <td>1.895026e+08</td>\n",
       "      <td>8.000000</td>\n",
       "      <td>28.000000</td>\n",
       "      <td>25.000000</td>\n",
       "      <td>14.000000</td>\n",
       "      <td>132.000000</td>\n",
       "      <td>6.000000</td>\n",
       "      <td>81.000000</td>\n",
       "      <td>42.000000</td>\n",
       "      <td>76.000000</td>\n",
       "      <td>21.000000</td>\n",
       "      <td>16.000000</td>\n",
       "    </tr>\n",
       "  </tbody>\n",
       "</table>\n",
       "</div>"
      ],
      "text/plain": [
       "       encounter_id   patient_nbr  admission_type_id  \\\n",
       "count  1.017660e+05  1.017660e+05      101766.000000   \n",
       "mean   1.652016e+08  5.433040e+07           2.024006   \n",
       "std    1.026403e+08  3.869636e+07           1.445403   \n",
       "min    1.252200e+04  1.350000e+02           1.000000   \n",
       "25%    8.496119e+07  2.341322e+07           1.000000   \n",
       "50%    1.523890e+08  4.550514e+07           1.000000   \n",
       "75%    2.302709e+08  8.754595e+07           3.000000   \n",
       "max    4.438672e+08  1.895026e+08           8.000000   \n",
       "\n",
       "       discharge_disposition_id  admission_source_id  time_in_hospital  \\\n",
       "count             101766.000000        101766.000000     101766.000000   \n",
       "mean                   3.715642             5.754437          4.395987   \n",
       "std                    5.280166             4.064081          2.985108   \n",
       "min                    1.000000             1.000000          1.000000   \n",
       "25%                    1.000000             1.000000          2.000000   \n",
       "50%                    1.000000             7.000000          4.000000   \n",
       "75%                    4.000000             7.000000          6.000000   \n",
       "max                   28.000000            25.000000         14.000000   \n",
       "\n",
       "       num_lab_procedures  num_procedures  num_medications  number_outpatient  \\\n",
       "count       101766.000000   101766.000000    101766.000000      101766.000000   \n",
       "mean            43.095641        1.339730        16.021844           0.369357   \n",
       "std             19.674362        1.705807         8.127566           1.267265   \n",
       "min              1.000000        0.000000         1.000000           0.000000   \n",
       "25%             31.000000        0.000000        10.000000           0.000000   \n",
       "50%             44.000000        1.000000        15.000000           0.000000   \n",
       "75%             57.000000        2.000000        20.000000           0.000000   \n",
       "max            132.000000        6.000000        81.000000          42.000000   \n",
       "\n",
       "       number_emergency  number_inpatient  number_diagnoses  \n",
       "count     101766.000000     101766.000000     101766.000000  \n",
       "mean           0.197836          0.635566          7.422607  \n",
       "std            0.930472          1.262863          1.933600  \n",
       "min            0.000000          0.000000          1.000000  \n",
       "25%            0.000000          0.000000          6.000000  \n",
       "50%            0.000000          0.000000          8.000000  \n",
       "75%            0.000000          1.000000          9.000000  \n",
       "max           76.000000         21.000000         16.000000  "
      ]
     },
     "execution_count": 2,
     "metadata": {},
     "output_type": "execute_result"
    }
   ],
   "source": [
    "# Examine data types and descriptive stats.\n",
    "# Observations:\n",
    "# - 50 total columns\n",
    "# - Some columns seem irrelevant to analysis of project (e.g. payer_code, number_diagnoses) \n",
    "# - 37 object dtypes, 13 int dtypes\n",
    "\n",
    "df.info()\n",
    "df.describe()"
   ]
  },
  {
   "cell_type": "code",
   "execution_count": 3,
   "metadata": {},
   "outputs": [
    {
     "data": {
      "text/html": [
       "<div>\n",
       "<style scoped>\n",
       "    .dataframe tbody tr th:only-of-type {\n",
       "        vertical-align: middle;\n",
       "    }\n",
       "\n",
       "    .dataframe tbody tr th {\n",
       "        vertical-align: top;\n",
       "    }\n",
       "\n",
       "    .dataframe thead th {\n",
       "        text-align: right;\n",
       "    }\n",
       "</style>\n",
       "<table border=\"1\" class=\"dataframe\">\n",
       "  <thead>\n",
       "    <tr style=\"text-align: right;\">\n",
       "      <th></th>\n",
       "      <th>encounter_id</th>\n",
       "      <th>patient_nbr</th>\n",
       "      <th>race</th>\n",
       "      <th>gender</th>\n",
       "      <th>age</th>\n",
       "      <th>weight</th>\n",
       "      <th>admission_type_id</th>\n",
       "      <th>discharge_disposition_id</th>\n",
       "      <th>admission_source_id</th>\n",
       "      <th>time_in_hospital</th>\n",
       "      <th>payer_code</th>\n",
       "      <th>medical_specialty</th>\n",
       "      <th>num_lab_procedures</th>\n",
       "      <th>num_procedures</th>\n",
       "      <th>num_medications</th>\n",
       "      <th>number_outpatient</th>\n",
       "      <th>number_emergency</th>\n",
       "      <th>number_inpatient</th>\n",
       "      <th>diag_1</th>\n",
       "      <th>diag_2</th>\n",
       "      <th>diag_3</th>\n",
       "      <th>number_diagnoses</th>\n",
       "      <th>max_glu_serum</th>\n",
       "      <th>A1Cresult</th>\n",
       "      <th>metformin</th>\n",
       "      <th>repaglinide</th>\n",
       "      <th>nateglinide</th>\n",
       "      <th>chlorpropamide</th>\n",
       "      <th>glimepiride</th>\n",
       "      <th>acetohexamide</th>\n",
       "      <th>glipizide</th>\n",
       "      <th>glyburide</th>\n",
       "      <th>tolbutamide</th>\n",
       "      <th>pioglitazone</th>\n",
       "      <th>rosiglitazone</th>\n",
       "      <th>acarbose</th>\n",
       "      <th>miglitol</th>\n",
       "      <th>troglitazone</th>\n",
       "      <th>tolazamide</th>\n",
       "      <th>examide</th>\n",
       "      <th>citoglipton</th>\n",
       "      <th>insulin</th>\n",
       "      <th>glyburide-metformin</th>\n",
       "      <th>glipizide-metformin</th>\n",
       "      <th>glimepiride-pioglitazone</th>\n",
       "      <th>metformin-rosiglitazone</th>\n",
       "      <th>metformin-pioglitazone</th>\n",
       "      <th>change</th>\n",
       "      <th>diabetesMed</th>\n",
       "      <th>readmitted</th>\n",
       "    </tr>\n",
       "  </thead>\n",
       "  <tbody>\n",
       "    <tr>\n",
       "      <th>0</th>\n",
       "      <td>2278392</td>\n",
       "      <td>8222157</td>\n",
       "      <td>Caucasian</td>\n",
       "      <td>Female</td>\n",
       "      <td>[0-10)</td>\n",
       "      <td>?</td>\n",
       "      <td>6</td>\n",
       "      <td>25</td>\n",
       "      <td>1</td>\n",
       "      <td>1</td>\n",
       "      <td>?</td>\n",
       "      <td>Pediatrics-Endocrinology</td>\n",
       "      <td>41</td>\n",
       "      <td>0</td>\n",
       "      <td>1</td>\n",
       "      <td>0</td>\n",
       "      <td>0</td>\n",
       "      <td>0</td>\n",
       "      <td>250.83</td>\n",
       "      <td>?</td>\n",
       "      <td>?</td>\n",
       "      <td>1</td>\n",
       "      <td>None</td>\n",
       "      <td>None</td>\n",
       "      <td>No</td>\n",
       "      <td>No</td>\n",
       "      <td>No</td>\n",
       "      <td>No</td>\n",
       "      <td>No</td>\n",
       "      <td>No</td>\n",
       "      <td>No</td>\n",
       "      <td>No</td>\n",
       "      <td>No</td>\n",
       "      <td>No</td>\n",
       "      <td>No</td>\n",
       "      <td>No</td>\n",
       "      <td>No</td>\n",
       "      <td>No</td>\n",
       "      <td>No</td>\n",
       "      <td>No</td>\n",
       "      <td>No</td>\n",
       "      <td>No</td>\n",
       "      <td>No</td>\n",
       "      <td>No</td>\n",
       "      <td>No</td>\n",
       "      <td>No</td>\n",
       "      <td>No</td>\n",
       "      <td>No</td>\n",
       "      <td>No</td>\n",
       "      <td>NO</td>\n",
       "    </tr>\n",
       "    <tr>\n",
       "      <th>1</th>\n",
       "      <td>149190</td>\n",
       "      <td>55629189</td>\n",
       "      <td>Caucasian</td>\n",
       "      <td>Female</td>\n",
       "      <td>[10-20)</td>\n",
       "      <td>?</td>\n",
       "      <td>1</td>\n",
       "      <td>1</td>\n",
       "      <td>7</td>\n",
       "      <td>3</td>\n",
       "      <td>?</td>\n",
       "      <td>?</td>\n",
       "      <td>59</td>\n",
       "      <td>0</td>\n",
       "      <td>18</td>\n",
       "      <td>0</td>\n",
       "      <td>0</td>\n",
       "      <td>0</td>\n",
       "      <td>276</td>\n",
       "      <td>250.01</td>\n",
       "      <td>255</td>\n",
       "      <td>9</td>\n",
       "      <td>None</td>\n",
       "      <td>None</td>\n",
       "      <td>No</td>\n",
       "      <td>No</td>\n",
       "      <td>No</td>\n",
       "      <td>No</td>\n",
       "      <td>No</td>\n",
       "      <td>No</td>\n",
       "      <td>No</td>\n",
       "      <td>No</td>\n",
       "      <td>No</td>\n",
       "      <td>No</td>\n",
       "      <td>No</td>\n",
       "      <td>No</td>\n",
       "      <td>No</td>\n",
       "      <td>No</td>\n",
       "      <td>No</td>\n",
       "      <td>No</td>\n",
       "      <td>No</td>\n",
       "      <td>Up</td>\n",
       "      <td>No</td>\n",
       "      <td>No</td>\n",
       "      <td>No</td>\n",
       "      <td>No</td>\n",
       "      <td>No</td>\n",
       "      <td>Ch</td>\n",
       "      <td>Yes</td>\n",
       "      <td>&gt;30</td>\n",
       "    </tr>\n",
       "    <tr>\n",
       "      <th>2</th>\n",
       "      <td>64410</td>\n",
       "      <td>86047875</td>\n",
       "      <td>AfricanAmerican</td>\n",
       "      <td>Female</td>\n",
       "      <td>[20-30)</td>\n",
       "      <td>?</td>\n",
       "      <td>1</td>\n",
       "      <td>1</td>\n",
       "      <td>7</td>\n",
       "      <td>2</td>\n",
       "      <td>?</td>\n",
       "      <td>?</td>\n",
       "      <td>11</td>\n",
       "      <td>5</td>\n",
       "      <td>13</td>\n",
       "      <td>2</td>\n",
       "      <td>0</td>\n",
       "      <td>1</td>\n",
       "      <td>648</td>\n",
       "      <td>250</td>\n",
       "      <td>V27</td>\n",
       "      <td>6</td>\n",
       "      <td>None</td>\n",
       "      <td>None</td>\n",
       "      <td>No</td>\n",
       "      <td>No</td>\n",
       "      <td>No</td>\n",
       "      <td>No</td>\n",
       "      <td>No</td>\n",
       "      <td>No</td>\n",
       "      <td>Steady</td>\n",
       "      <td>No</td>\n",
       "      <td>No</td>\n",
       "      <td>No</td>\n",
       "      <td>No</td>\n",
       "      <td>No</td>\n",
       "      <td>No</td>\n",
       "      <td>No</td>\n",
       "      <td>No</td>\n",
       "      <td>No</td>\n",
       "      <td>No</td>\n",
       "      <td>No</td>\n",
       "      <td>No</td>\n",
       "      <td>No</td>\n",
       "      <td>No</td>\n",
       "      <td>No</td>\n",
       "      <td>No</td>\n",
       "      <td>No</td>\n",
       "      <td>Yes</td>\n",
       "      <td>NO</td>\n",
       "    </tr>\n",
       "    <tr>\n",
       "      <th>3</th>\n",
       "      <td>500364</td>\n",
       "      <td>82442376</td>\n",
       "      <td>Caucasian</td>\n",
       "      <td>Male</td>\n",
       "      <td>[30-40)</td>\n",
       "      <td>?</td>\n",
       "      <td>1</td>\n",
       "      <td>1</td>\n",
       "      <td>7</td>\n",
       "      <td>2</td>\n",
       "      <td>?</td>\n",
       "      <td>?</td>\n",
       "      <td>44</td>\n",
       "      <td>1</td>\n",
       "      <td>16</td>\n",
       "      <td>0</td>\n",
       "      <td>0</td>\n",
       "      <td>0</td>\n",
       "      <td>8</td>\n",
       "      <td>250.43</td>\n",
       "      <td>403</td>\n",
       "      <td>7</td>\n",
       "      <td>None</td>\n",
       "      <td>None</td>\n",
       "      <td>No</td>\n",
       "      <td>No</td>\n",
       "      <td>No</td>\n",
       "      <td>No</td>\n",
       "      <td>No</td>\n",
       "      <td>No</td>\n",
       "      <td>No</td>\n",
       "      <td>No</td>\n",
       "      <td>No</td>\n",
       "      <td>No</td>\n",
       "      <td>No</td>\n",
       "      <td>No</td>\n",
       "      <td>No</td>\n",
       "      <td>No</td>\n",
       "      <td>No</td>\n",
       "      <td>No</td>\n",
       "      <td>No</td>\n",
       "      <td>Up</td>\n",
       "      <td>No</td>\n",
       "      <td>No</td>\n",
       "      <td>No</td>\n",
       "      <td>No</td>\n",
       "      <td>No</td>\n",
       "      <td>Ch</td>\n",
       "      <td>Yes</td>\n",
       "      <td>NO</td>\n",
       "    </tr>\n",
       "    <tr>\n",
       "      <th>4</th>\n",
       "      <td>16680</td>\n",
       "      <td>42519267</td>\n",
       "      <td>Caucasian</td>\n",
       "      <td>Male</td>\n",
       "      <td>[40-50)</td>\n",
       "      <td>?</td>\n",
       "      <td>1</td>\n",
       "      <td>1</td>\n",
       "      <td>7</td>\n",
       "      <td>1</td>\n",
       "      <td>?</td>\n",
       "      <td>?</td>\n",
       "      <td>51</td>\n",
       "      <td>0</td>\n",
       "      <td>8</td>\n",
       "      <td>0</td>\n",
       "      <td>0</td>\n",
       "      <td>0</td>\n",
       "      <td>197</td>\n",
       "      <td>157</td>\n",
       "      <td>250</td>\n",
       "      <td>5</td>\n",
       "      <td>None</td>\n",
       "      <td>None</td>\n",
       "      <td>No</td>\n",
       "      <td>No</td>\n",
       "      <td>No</td>\n",
       "      <td>No</td>\n",
       "      <td>No</td>\n",
       "      <td>No</td>\n",
       "      <td>Steady</td>\n",
       "      <td>No</td>\n",
       "      <td>No</td>\n",
       "      <td>No</td>\n",
       "      <td>No</td>\n",
       "      <td>No</td>\n",
       "      <td>No</td>\n",
       "      <td>No</td>\n",
       "      <td>No</td>\n",
       "      <td>No</td>\n",
       "      <td>No</td>\n",
       "      <td>Steady</td>\n",
       "      <td>No</td>\n",
       "      <td>No</td>\n",
       "      <td>No</td>\n",
       "      <td>No</td>\n",
       "      <td>No</td>\n",
       "      <td>Ch</td>\n",
       "      <td>Yes</td>\n",
       "      <td>NO</td>\n",
       "    </tr>\n",
       "  </tbody>\n",
       "</table>\n",
       "</div>"
      ],
      "text/plain": [
       "   encounter_id  patient_nbr             race  gender      age weight  \\\n",
       "0       2278392      8222157        Caucasian  Female   [0-10)      ?   \n",
       "1        149190     55629189        Caucasian  Female  [10-20)      ?   \n",
       "2         64410     86047875  AfricanAmerican  Female  [20-30)      ?   \n",
       "3        500364     82442376        Caucasian    Male  [30-40)      ?   \n",
       "4         16680     42519267        Caucasian    Male  [40-50)      ?   \n",
       "\n",
       "   admission_type_id  discharge_disposition_id  admission_source_id  \\\n",
       "0                  6                        25                    1   \n",
       "1                  1                         1                    7   \n",
       "2                  1                         1                    7   \n",
       "3                  1                         1                    7   \n",
       "4                  1                         1                    7   \n",
       "\n",
       "   time_in_hospital payer_code         medical_specialty  num_lab_procedures  \\\n",
       "0                 1          ?  Pediatrics-Endocrinology                  41   \n",
       "1                 3          ?                         ?                  59   \n",
       "2                 2          ?                         ?                  11   \n",
       "3                 2          ?                         ?                  44   \n",
       "4                 1          ?                         ?                  51   \n",
       "\n",
       "   num_procedures  num_medications  number_outpatient  number_emergency  \\\n",
       "0               0                1                  0                 0   \n",
       "1               0               18                  0                 0   \n",
       "2               5               13                  2                 0   \n",
       "3               1               16                  0                 0   \n",
       "4               0                8                  0                 0   \n",
       "\n",
       "   number_inpatient  diag_1  diag_2 diag_3  number_diagnoses max_glu_serum  \\\n",
       "0                 0  250.83       ?      ?                 1          None   \n",
       "1                 0     276  250.01    255                 9          None   \n",
       "2                 1     648     250    V27                 6          None   \n",
       "3                 0       8  250.43    403                 7          None   \n",
       "4                 0     197     157    250                 5          None   \n",
       "\n",
       "  A1Cresult metformin repaglinide nateglinide chlorpropamide glimepiride  \\\n",
       "0      None        No          No          No             No          No   \n",
       "1      None        No          No          No             No          No   \n",
       "2      None        No          No          No             No          No   \n",
       "3      None        No          No          No             No          No   \n",
       "4      None        No          No          No             No          No   \n",
       "\n",
       "  acetohexamide glipizide glyburide tolbutamide pioglitazone rosiglitazone  \\\n",
       "0            No        No        No          No           No            No   \n",
       "1            No        No        No          No           No            No   \n",
       "2            No    Steady        No          No           No            No   \n",
       "3            No        No        No          No           No            No   \n",
       "4            No    Steady        No          No           No            No   \n",
       "\n",
       "  acarbose miglitol troglitazone tolazamide examide citoglipton insulin  \\\n",
       "0       No       No           No         No      No          No      No   \n",
       "1       No       No           No         No      No          No      Up   \n",
       "2       No       No           No         No      No          No      No   \n",
       "3       No       No           No         No      No          No      Up   \n",
       "4       No       No           No         No      No          No  Steady   \n",
       "\n",
       "  glyburide-metformin glipizide-metformin glimepiride-pioglitazone  \\\n",
       "0                  No                  No                       No   \n",
       "1                  No                  No                       No   \n",
       "2                  No                  No                       No   \n",
       "3                  No                  No                       No   \n",
       "4                  No                  No                       No   \n",
       "\n",
       "  metformin-rosiglitazone metformin-pioglitazone change diabetesMed readmitted  \n",
       "0                      No                     No     No          No         NO  \n",
       "1                      No                     No     Ch         Yes        >30  \n",
       "2                      No                     No     No         Yes         NO  \n",
       "3                      No                     No     Ch         Yes         NO  \n",
       "4                      No                     No     Ch         Yes         NO  "
      ]
     },
     "execution_count": 3,
     "metadata": {},
     "output_type": "execute_result"
    }
   ],
   "source": [
    "# Observations:\n",
    "# - Weight column is missing 98% of data\n",
    "# - Payer code column is missing 52% of data\n",
    "# - Medical specialty column is missing 53% of data\n",
    "\n",
    "df.head()"
   ]
  },
  {
   "cell_type": "code",
   "execution_count": 4,
   "metadata": {},
   "outputs": [
    {
     "data": {
      "text/plain": [
       "(101766, 50)"
      ]
     },
     "execution_count": 4,
     "metadata": {},
     "output_type": "execute_result"
    }
   ],
   "source": [
    "# Original dataframe includes 101,766 rows & 50 columns.\n",
    "\n",
    "df.shape"
   ]
  },
  {
   "cell_type": "markdown",
   "metadata": {},
   "source": [
    "**DATA CLEANING**"
   ]
  },
  {
   "cell_type": "code",
   "execution_count": 5,
   "metadata": {},
   "outputs": [],
   "source": [
    "# Dropping any potential duplicate rows that might skew any data analysis.\n",
    "# Multiple encounters for same patient will skew data.\n",
    "\n",
    "df = df.drop_duplicates(subset='patient_nbr', keep='first')"
   ]
  },
  {
   "cell_type": "code",
   "execution_count": 6,
   "metadata": {},
   "outputs": [
    {
     "data": {
      "text/plain": [
       "(71518, 50)"
      ]
     },
     "execution_count": 6,
     "metadata": {},
     "output_type": "execute_result"
    }
   ],
   "source": [
    "# Confirming changes made after duplicate patient encounter removal.\n",
    "\n",
    "df.shape"
   ]
  },
  {
   "cell_type": "code",
   "execution_count": 7,
   "metadata": {},
   "outputs": [],
   "source": [
    "# Removing columns that have incomplete data or unuseful data points.\n",
    "\n",
    "df = df.drop(['weight', 'payer_code', 'medical_specialty', 'diag_2', 'diag_3'], axis=1)"
   ]
  },
  {
   "cell_type": "code",
   "execution_count": 8,
   "metadata": {},
   "outputs": [
    {
     "data": {
      "text/plain": [
       "(71518, 45)"
      ]
     },
     "execution_count": 8,
     "metadata": {},
     "output_type": "execute_result"
    }
   ],
   "source": [
    "# Confirming changes made after column removal.\n",
    "\n",
    "df.shape"
   ]
  },
  {
   "cell_type": "code",
   "execution_count": 9,
   "metadata": {},
   "outputs": [],
   "source": [
    "# Removing patients who died during hospital admission or discharged to hospice care\n",
    "# since these patients would not be readmitted again.\n",
    "\n",
    "df = df.loc[~df.discharge_disposition_id.isin([11,13,14,19,20,21])]\n"
   ]
  },
  {
   "cell_type": "code",
   "execution_count": 10,
   "metadata": {},
   "outputs": [],
   "source": [
    "# Removing patients with missing Race values since we are using this as a data point for analysis.\n",
    "\n",
    "df = df.loc[~df.race.isin(['?'])]"
   ]
  },
  {
   "cell_type": "code",
   "execution_count": 11,
   "metadata": {},
   "outputs": [
    {
     "data": {
      "text/plain": [
       "(68055, 45)"
      ]
     },
     "execution_count": 11,
     "metadata": {},
     "output_type": "execute_result"
    }
   ],
   "source": [
    "# Confirming changes made after missing Race value removal.\n",
    "\n",
    "df.shape"
   ]
  },
  {
   "cell_type": "code",
   "execution_count": 12,
   "metadata": {},
   "outputs": [],
   "source": [
    "# Removing patients with missing Gender values or unknown values\n",
    "# since we are using this as a data point for analysis.\n",
    "\n",
    "df = df.loc[~df.gender.isin(['Unknown/Invalid'])]"
   ]
  },
  {
   "cell_type": "code",
   "execution_count": 13,
   "metadata": {
    "scrolled": true
   },
   "outputs": [
    {
     "data": {
      "text/plain": [
       "(68054, 45)"
      ]
     },
     "execution_count": 13,
     "metadata": {},
     "output_type": "execute_result"
    }
   ],
   "source": [
    "# Confirming changes made after missing Gender value removal.\n",
    "\n",
    "df.shape"
   ]
  },
  {
   "cell_type": "markdown",
   "metadata": {},
   "source": [
    "**FEATURE ENGINEERING**"
   ]
  },
  {
   "cell_type": "code",
   "execution_count": 14,
   "metadata": {},
   "outputs": [],
   "source": [
    "# Creating new column to show number of medication changes made for each patient.\n",
    "\n",
    "keys = ['metformin','repaglinide', 'nateglinide', 'chlorpropamide', 'glimepiride', 'glipizide',\n",
    "        'glyburide', 'pioglitazone', 'rosiglitazone', 'acarbose', 'miglitol', 'insulin', \n",
    "        'glyburide-metformin', 'tolazamide', 'metformin-pioglitazone','metformin-rosiglitazone', \n",
    "        'glimepiride-pioglitazone', 'glipizide-metformin', 'troglitazone', 'tolbutamide', \n",
    "        'acetohexamide', 'examide', 'citoglipton', ]\n",
    "\n",
    "for x in keys:\n",
    "    colname = str(x) + 'temp'\n",
    "    df[colname] = df[x].apply(lambda y: 0 if (y == 'No' or y == 'Steady') else 1)\n",
    "    \n",
    "df['medchange'] = 0\n",
    "\n",
    "for x in keys:\n",
    "    colname = str(x) + 'temp'\n",
    "    df['medchange'] += df[colname]\n",
    "    del df[colname]"
   ]
  },
  {
   "cell_type": "code",
   "execution_count": 15,
   "metadata": {},
   "outputs": [
    {
     "data": {
      "text/plain": [
       "No    68054\n",
       "Name: examide, dtype: int64"
      ]
     },
     "execution_count": 15,
     "metadata": {},
     "output_type": "execute_result"
    }
   ],
   "source": [
    "df['examide'].value_counts()"
   ]
  },
  {
   "cell_type": "code",
   "execution_count": 16,
   "metadata": {},
   "outputs": [],
   "source": [
    "# # Engineer new features for total number of medications prescribed\n",
    "dict_values = {'No': 0, 'Steady':1, 'Up':1, 'Down':1}\n",
    "df['total_medications'] = 0\n",
    "\n",
    "for x in keys:\n",
    "    colname = str(x) + 'temp'\n",
    "    df[colname] = df[x].map(dict_values)\n",
    "    df['total_medications'] = df['total_medications'] + df[colname]\n",
    "    del df[colname]"
   ]
  },
  {
   "cell_type": "code",
   "execution_count": 17,
   "metadata": {},
   "outputs": [
    {
     "data": {
      "text/plain": [
       "1    30257\n",
       "0    16319\n",
       "2    14959\n",
       "3     5486\n",
       "4      980\n",
       "5       49\n",
       "6        4\n",
       "Name: total_medications, dtype: int64"
      ]
     },
     "execution_count": 17,
     "metadata": {},
     "output_type": "execute_result"
    }
   ],
   "source": [
    "df.total_medications.value_counts()"
   ]
  },
  {
   "cell_type": "code",
   "execution_count": 18,
   "metadata": {},
   "outputs": [],
   "source": [
    "# Clean age column to fit into integer bins\n",
    "\n",
    "age_dict= {'[0-10)': 0, '[10-20)': 10, '[20-30)': 20, '[30-40)':30, \n",
    " '[40-50)':40, '[50-60)':50,'[60-70)':60, '[70-80)':70, \n",
    " '[80-90)':80, '[90-100)':90  }\n",
    "\n",
    "df['age'] = df['age'].map(age_dict)"
   ]
  },
  {
   "cell_type": "code",
   "execution_count": 19,
   "metadata": {},
   "outputs": [
    {
     "data": {
      "text/plain": [
       "0    0.909836\n",
       "1    0.090164\n",
       "Name: readmitted, dtype: float64"
      ]
     },
     "execution_count": 19,
     "metadata": {},
     "output_type": "execute_result"
    }
   ],
   "source": [
    "# Change Readmission to True False Boolean. The Problem is hospital knowledge within 30 days.\n",
    "df['readmitted'] = df['readmitted'].replace('>30', 0)\n",
    "df['readmitted'] = df['readmitted'].replace('<30', 1)\n",
    "df['readmitted'] = df['readmitted'].replace('NO', 0)\n",
    "df.readmitted.value_counts(normalize = True)"
   ]
  },
  {
   "cell_type": "code",
   "execution_count": 20,
   "metadata": {},
   "outputs": [],
   "source": [
    "# df = (df.loc[~df.diag_1.isin(['?'])])"
   ]
  },
  {
   "cell_type": "code",
   "execution_count": 21,
   "metadata": {},
   "outputs": [],
   "source": [
    "# df['diag_cat'] = df['diag_1']\n",
    "# df.loc[df['diag_1'].str.contains('V'), ['diag_cat']] = 0\n",
    "# df.loc[df['diag_1'].str.contains('E'), ['diag_cat']] = 0\n",
    "# \n",
    "# df['diag_cat'] = df['diag_cat'].astype(float)\n",
    "# \n",
    "# for x in df['diag_cat']:\n",
    "#     if x >= 390 and x <=459 or x == 785:\n",
    "#         df['diag_cat'] = 'Circulatory'\n",
    "#     if x >= 460 and x <=519 or x == 786:\n",
    "#         df['diag_cat'] = 'Respiratory'\n",
    "#     else:\n",
    "#         df['diag_cat'] = 'Other'\n"
   ]
  },
  {
   "cell_type": "code",
   "execution_count": 22,
   "metadata": {},
   "outputs": [],
   "source": [
    "# df.diag_1.where(x > 390)\n",
    "# df.head()"
   ]
  },
  {
   "cell_type": "markdown",
   "metadata": {},
   "source": [
    "**Visualizations**"
   ]
  },
  {
   "cell_type": "code",
   "execution_count": 23,
   "metadata": {},
   "outputs": [],
   "source": [
    "# Import visualization libraries\n",
    "\n",
    "import matplotlib.pyplot as plt\n",
    "import seaborn as sns\n",
    "sns.set()"
   ]
  },
  {
   "cell_type": "code",
   "execution_count": 24,
   "metadata": {},
   "outputs": [
    {
     "data": {
      "text/plain": [
       "Text(0.5, 1.0, 'Percentage of Readmission By Gender and Age')"
      ]
     },
     "execution_count": 24,
     "metadata": {},
     "output_type": "execute_result"
    },
    {
     "data": {
      "image/png": "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\n",
      "text/plain": [
       "<Figure size 1152x576 with 2 Axes>"
      ]
     },
     "metadata": {
      "needs_background": "light"
     },
     "output_type": "display_data"
    }
   ],
   "source": [
    "# sns.lmplot('age', 'medchange', data=df, hue='readmitted', fit_reg=False);\n",
    "plt.figure(figsize=(16, 8))\n",
    "\n",
    "ax = plt.axes()\n",
    "\n",
    "data = df.pivot_table(index='age', columns='gender', values='readmitted')\n",
    "sns.heatmap(data, annot=True, fmt=\".2f\").invert_yaxis()\n",
    "ax.set_title('Percentage of Readmission By Gender and Age')\n"
   ]
  },
  {
   "cell_type": "code",
   "execution_count": 25,
   "metadata": {
    "scrolled": true
   },
   "outputs": [
    {
     "data": {
      "image/png": "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\n",
      "text/plain": [
       "<Figure size 1152x432 with 2 Axes>"
      ]
     },
     "metadata": {
      "needs_background": "light"
     },
     "output_type": "display_data"
    }
   ],
   "source": [
    "plt.figure(figsize=(16, 6))\n",
    "\n",
    "\n",
    "data = df.pivot_table(index='age', columns='medchange', values='readmitted')\n",
    "sns.heatmap(data, annot=True, fmt=\".2f\").invert_yaxis();"
   ]
  },
  {
   "cell_type": "code",
   "execution_count": 26,
   "metadata": {},
   "outputs": [
    {
     "data": {
      "image/png": "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\n",
      "text/plain": [
       "<Figure size 1152x576 with 2 Axes>"
      ]
     },
     "metadata": {
      "needs_background": "light"
     },
     "output_type": "display_data"
    }
   ],
   "source": [
    "plt.figure(figsize=(16, 8))\n",
    "\n",
    "\n",
    "data = df.pivot_table(index='age', columns='race', values='readmitted')\n",
    "sns.heatmap(data, annot=True, fmt=\".2f\").invert_yaxis();"
   ]
  },
  {
   "cell_type": "code",
   "execution_count": 27,
   "metadata": {},
   "outputs": [],
   "source": [
    "df1 = (df.loc[df.readmitted.isin([True])])\n",
    "data2 = (df.loc[df.readmitted.isin([False])])\n",
    "AfricanAmerican = df1.loc[df1.race.isin(['AfricanAmerican'])]\n",
    "Hispanic = df1.loc[df1.race.isin(['Hispanic'])]\n",
    "Caucasian = df1.loc[df1.race.isin(['Caucasian'])]\n",
    "Asian = df1.loc[df1.race.isin(['Asian'])]\n",
    "Other = df1.loc[df1.race.isin(['Other'])]\n",
    "Other_Count = list(Other.groupby(['age'])['readmitted'].count())\n",
    "\n",
    "# d2 = list(data2['age'])\n",
    "# d1r = list(data1['race'])\n",
    "# d2r = list(data2['race'])"
   ]
  },
  {
   "cell_type": "code",
   "execution_count": 28,
   "metadata": {},
   "outputs": [
    {
     "data": {
      "text/plain": [
       "Female    36262\n",
       "Male      31792\n",
       "Name: gender, dtype: int64"
      ]
     },
     "execution_count": 28,
     "metadata": {},
     "output_type": "execute_result"
    }
   ],
   "source": [
    "df0=df.gender.value_counts()\n",
    "df0"
   ]
  },
  {
   "cell_type": "code",
   "execution_count": 29,
   "metadata": {},
   "outputs": [],
   "source": [
    "x = df['age'].unique()\n",
    "y1 = list(AfricanAmerican.groupby(['age'])['readmitted'].count())\n",
    "y2 = list(Hispanic.groupby(['age'])['readmitted'].count())\n",
    "y3 = list(Caucasian.groupby(['age'])['readmitted'].count())\n",
    "y4 = list(Asian.groupby(['age'])['readmitted'].count())\n",
    "y5 = list(Other.groupby(['age'])['readmitted'].count())\n"
   ]
  },
  {
   "cell_type": "code",
   "execution_count": 30,
   "metadata": {},
   "outputs": [],
   "source": [
    "y1.insert(0, 0)\n",
    "y2.insert(0, 0)\n",
    "y2.insert(1, 0)\n",
    "y4.insert(0, 0)\n",
    "y4.insert(1, 0)\n",
    "y4.insert(2, 0)\n",
    "y4.insert(3, 0)\n",
    "y4.insert(9, 0)\n",
    "y5.insert(0, 0)\n",
    "y5.insert(2, 0)\n",
    "y5.insert(9, 0)"
   ]
  },
  {
   "cell_type": "code",
   "execution_count": 31,
   "metadata": {},
   "outputs": [
    {
     "data": {
      "text/plain": [
       "[0, 8, 31, 59, 146, 200, 263, 248, 120, 18]"
      ]
     },
     "execution_count": 31,
     "metadata": {},
     "output_type": "execute_result"
    }
   ],
   "source": [
    "y1"
   ]
  },
  {
   "cell_type": "code",
   "execution_count": 32,
   "metadata": {},
   "outputs": [
    {
     "data": {
      "image/png": "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\n",
      "text/plain": [
       "<Figure size 1152x576 with 2 Axes>"
      ]
     },
     "metadata": {
      "needs_background": "light"
     },
     "output_type": "display_data"
    }
   ],
   "source": [
    "plt.figure(figsize=(16, 8))\n",
    "\n",
    "\n",
    "data = df.pivot_table(index='age', columns='race', values='readmitted')\n",
    "sns.heatmap(data, annot=True, fmt=\".2f\").invert_yaxis();"
   ]
  },
  {
   "cell_type": "code",
   "execution_count": 33,
   "metadata": {},
   "outputs": [
    {
     "data": {
      "image/png": "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\n",
      "text/plain": [
       "<Figure size 864x576 with 1 Axes>"
      ]
     },
     "metadata": {
      "needs_background": "light"
     },
     "output_type": "display_data"
    }
   ],
   "source": [
    "\n",
    "fig = plt.figure(figsize = (12,8))\n",
    "\n",
    "\n",
    "# y= list(female.loc[(female['readmitted'] == 1)].groupby(['age', 'gender', 'readmitted'])['patient_nbr'].count())\n",
    "width = 2\n",
    "plt.bar(x - width, y1, width, color = 'blue')\n",
    "plt.bar(x - width*2, y2, width = 2, color = 'red')\n",
    "plt.bar(x - width*3, y3, width = 2, color = 'green')\n",
    "plt.bar(x - width*4, y4, width = 2, color = 'yellow')\n",
    "plt.bar(x - width*5, y5, width = 2, color = 'orange')\n",
    "\n",
    "\n",
    "plt.title('Readmittance by Race')\n",
    "plt.xlabel('Age')\n",
    "plt.ylabel('# of Patients')\n",
    "plt.legend(['African American','Hispanic', 'Caucasian', 'Asian'])\n",
    "plt.show()\n",
    "\n",
    "# plt.title('Readmittance by Age')\n",
    "# plt.xlabel('Age')\n",
    "# plt.ylabel('# of Patients')\n",
    "# plt.legend(['Male', 'Female'])\n",
    "# plt.show()"
   ]
  },
  {
   "cell_type": "code",
   "execution_count": 42,
   "metadata": {},
   "outputs": [
    {
     "data": {
      "image/png": "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\n",
      "text/plain": [
       "<Figure size 720x576 with 1 Axes>"
      ]
     },
     "metadata": {
      "needs_background": "light"
     },
     "output_type": "display_data"
    }
   ],
   "source": [
    "# Readmittance by Gender \n",
    "# define male/female dataframes\n",
    "fig = plt.figure(figsize=(10,8))\n",
    "\n",
    "\n",
    "male = df[(df['gender'] == 'Male')]\n",
    "female = df[(df['gender'] == 'Female')]\n",
    "# set x/y values\n",
    "ax = plt.subplot()\n",
    "x = list(df['age'].unique())\n",
    "y1 = list(male.loc[(male['readmitted'] == 1)].groupby(['age', 'readmitted'])['patient_nbr'].count())\n",
    "y2 = list(female.loc[(female['readmitted'] == 1)].groupby(['age', 'readmitted'])['patient_nbr'].count())\n",
    "# plot bar graph\n",
    "width = 2\n",
    "plt.bar(x, y1, width = 2, color = 'blue')\n",
    "plt.bar([i + width for i in x], y2, width = 2, color = 'red')\n",
    "# set graph labels\n",
    "plt.xticks(np.arange(0, 100, step=10))\n",
    "plt.title('Readmittance by Gender')\n",
    "plt.xlabel('Age')\n",
    "plt.ylabel('# of Patients')\n",
    "plt.legend(['Male', 'Female'])\n",
    "plt.show()"
   ]
  },
  {
   "cell_type": "code",
   "execution_count": 35,
   "metadata": {},
   "outputs": [
    {
     "data": {
      "text/plain": [
       "pandas.core.frame.DataFrame"
      ]
     },
     "execution_count": 35,
     "metadata": {},
     "output_type": "execute_result"
    }
   ],
   "source": [
    "women = df.loc[df.gender.isin(['Female'])]\n",
    "men = df.loc[df.gender.isin(['Male'])]\n",
    "type(men)"
   ]
  },
  {
   "cell_type": "code",
   "execution_count": 36,
   "metadata": {},
   "outputs": [
    {
     "data": {
      "text/html": [
       "<div>\n",
       "<style scoped>\n",
       "    .dataframe tbody tr th:only-of-type {\n",
       "        vertical-align: middle;\n",
       "    }\n",
       "\n",
       "    .dataframe tbody tr th {\n",
       "        vertical-align: top;\n",
       "    }\n",
       "\n",
       "    .dataframe thead th {\n",
       "        text-align: right;\n",
       "    }\n",
       "</style>\n",
       "<table border=\"1\" class=\"dataframe\">\n",
       "  <thead>\n",
       "    <tr style=\"text-align: right;\">\n",
       "      <th></th>\n",
       "      <th>age</th>\n",
       "    </tr>\n",
       "  </thead>\n",
       "  <tbody>\n",
       "    <tr>\n",
       "      <th>count</th>\n",
       "      <td>36262.000000</td>\n",
       "    </tr>\n",
       "    <tr>\n",
       "      <th>mean</th>\n",
       "      <td>61.226353</td>\n",
       "    </tr>\n",
       "    <tr>\n",
       "      <th>std</th>\n",
       "      <td>16.617669</td>\n",
       "    </tr>\n",
       "    <tr>\n",
       "      <th>min</th>\n",
       "      <td>0.000000</td>\n",
       "    </tr>\n",
       "    <tr>\n",
       "      <th>25%</th>\n",
       "      <td>50.000000</td>\n",
       "    </tr>\n",
       "    <tr>\n",
       "      <th>50%</th>\n",
       "      <td>60.000000</td>\n",
       "    </tr>\n",
       "    <tr>\n",
       "      <th>75%</th>\n",
       "      <td>70.000000</td>\n",
       "    </tr>\n",
       "    <tr>\n",
       "      <th>max</th>\n",
       "      <td>90.000000</td>\n",
       "    </tr>\n",
       "  </tbody>\n",
       "</table>\n",
       "</div>"
      ],
      "text/plain": [
       "                age\n",
       "count  36262.000000\n",
       "mean      61.226353\n",
       "std       16.617669\n",
       "min        0.000000\n",
       "25%       50.000000\n",
       "50%       60.000000\n",
       "75%       70.000000\n",
       "max       90.000000"
      ]
     },
     "execution_count": 36,
     "metadata": {},
     "output_type": "execute_result"
    }
   ],
   "source": [
    "women.loc[:,'age':'age'].describe()\n"
   ]
  },
  {
   "cell_type": "code",
   "execution_count": 37,
   "metadata": {},
   "outputs": [
    {
     "data": {
      "text/html": [
       "<div>\n",
       "<style scoped>\n",
       "    .dataframe tbody tr th:only-of-type {\n",
       "        vertical-align: middle;\n",
       "    }\n",
       "\n",
       "    .dataframe tbody tr th {\n",
       "        vertical-align: top;\n",
       "    }\n",
       "\n",
       "    .dataframe thead th {\n",
       "        text-align: right;\n",
       "    }\n",
       "</style>\n",
       "<table border=\"1\" class=\"dataframe\">\n",
       "  <thead>\n",
       "    <tr style=\"text-align: right;\">\n",
       "      <th></th>\n",
       "      <th>age</th>\n",
       "    </tr>\n",
       "  </thead>\n",
       "  <tbody>\n",
       "    <tr>\n",
       "      <th>count</th>\n",
       "      <td>31792.000000</td>\n",
       "    </tr>\n",
       "    <tr>\n",
       "      <th>mean</th>\n",
       "      <td>59.528183</td>\n",
       "    </tr>\n",
       "    <tr>\n",
       "      <th>std</th>\n",
       "      <td>15.164914</td>\n",
       "    </tr>\n",
       "    <tr>\n",
       "      <th>min</th>\n",
       "      <td>0.000000</td>\n",
       "    </tr>\n",
       "    <tr>\n",
       "      <th>25%</th>\n",
       "      <td>50.000000</td>\n",
       "    </tr>\n",
       "    <tr>\n",
       "      <th>50%</th>\n",
       "      <td>60.000000</td>\n",
       "    </tr>\n",
       "    <tr>\n",
       "      <th>75%</th>\n",
       "      <td>70.000000</td>\n",
       "    </tr>\n",
       "    <tr>\n",
       "      <th>max</th>\n",
       "      <td>90.000000</td>\n",
       "    </tr>\n",
       "  </tbody>\n",
       "</table>\n",
       "</div>"
      ],
      "text/plain": [
       "                age\n",
       "count  31792.000000\n",
       "mean      59.528183\n",
       "std       15.164914\n",
       "min        0.000000\n",
       "25%       50.000000\n",
       "50%       60.000000\n",
       "75%       70.000000\n",
       "max       90.000000"
      ]
     },
     "execution_count": 37,
     "metadata": {},
     "output_type": "execute_result"
    }
   ],
   "source": [
    "men.loc[:,'age':'age'].describe()"
   ]
  },
  {
   "cell_type": "code",
   "execution_count": 38,
   "metadata": {},
   "outputs": [],
   "source": [
    "race_dict= {'Caucasian': 1, 'AfricanAmerican': 2, 'Hispanic': 3, 'Asian': 4, 'Other': 5}\n",
    "\n",
    "df['race_int'] = df['race'].map(race_dict)"
   ]
  },
  {
   "cell_type": "code",
   "execution_count": 39,
   "metadata": {},
   "outputs": [
    {
     "data": {
      "text/plain": [
       "1    0.768390\n",
       "2    0.185514\n",
       "3    0.022041\n",
       "5    0.016884\n",
       "4    0.007171\n",
       "Name: race_int, dtype: float64"
      ]
     },
     "execution_count": 39,
     "metadata": {},
     "output_type": "execute_result"
    }
   ],
   "source": [
    "df.race_int.value_counts(normalize=True)\n"
   ]
  },
  {
   "cell_type": "code",
   "execution_count": 40,
   "metadata": {},
   "outputs": [
    {
     "name": "stderr",
     "output_type": "stream",
     "text": [
      "/Users/Gary/anaconda3/lib/python3.7/site-packages/matplotlib/figure.py:98: MatplotlibDeprecationWarning: \n",
      "Adding an axes using the same arguments as a previous axes currently reuses the earlier instance.  In a future version, a new instance will always be created and returned.  Meanwhile, this warning can be suppressed, and the future behavior ensured, by passing a unique label to each axes instance.\n",
      "  \"Adding an axes using the same arguments as a previous axes \"\n"
     ]
    },
    {
     "data": {
      "text/plain": [
       "Text(0.5, 0, 'Race')"
      ]
     },
     "execution_count": 40,
     "metadata": {},
     "output_type": "execute_result"
    },
    {
     "data": {
      "image/png": "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\n",
      "text/plain": [
       "<Figure size 864x576 with 1 Axes>"
      ]
     },
     "metadata": {
      "needs_background": "light"
     },
     "output_type": "display_data"
    }
   ],
   "source": [
    "fig = plt.figure(figsize= (12, 8))\n",
    "sns.distplot(df.race_int)\n",
    "\n",
    "ax = plt.axes()\n",
    "\n",
    "ax.set_title('Distribution of RACES')\n",
    "plt.ylabel('Overall Percentage')\n",
    "plt.xlabel('Race')\n",
    "# plt.yticks(np.arange(0, 10, step = 1))\n",
    "\n"
   ]
  },
  {
   "cell_type": "code",
   "execution_count": 41,
   "metadata": {},
   "outputs": [
    {
     "data": {
      "text/plain": [
       "Text(0, 0.5, 'Percentage of Population')"
      ]
     },
     "execution_count": 41,
     "metadata": {},
     "output_type": "execute_result"
    },
    {
     "data": {
      "image/png": "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\n",
      "text/plain": [
       "<Figure size 864x576 with 1 Axes>"
      ]
     },
     "metadata": {
      "needs_background": "light"
     },
     "output_type": "display_data"
    }
   ],
   "source": [
    "plt.figure(figsize=(12,8))\n",
    "x = ['Caucasian', 'African American','Hispanic', 'Asian', 'Other']\n",
    "y = [76.8, 18.5, 2.2, 1.6, .07]\n",
    "\n",
    "plt.bar(x,y)\n",
    "plt.title('Distribution of Races')\n",
    "plt.xlabel('Races')\n",
    "plt.ylabel('Percentage of Population')"
   ]
  },
  {
   "cell_type": "code",
   "execution_count": 43,
   "metadata": {},
   "outputs": [
    {
     "data": {
      "image/png": "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\n",
      "text/plain": [
       "<Figure size 864x576 with 1 Axes>"
      ]
     },
     "metadata": {
      "needs_background": "light"
     },
     "output_type": "display_data"
    }
   ],
   "source": [
    "# Readmittance by Medication Change \n",
    "fig = plt.figure(figsize=(12,8))\n",
    "# set x/y values\n",
    "ax = plt.subplot()\n",
    "x = list(df['medchange'].unique())\n",
    "y1 = list(df.loc[(df['readmitted'] == 1)].groupby(['medchange', 'readmitted'])['patient_nbr'].count())\n",
    "# insert missing value to fix shape error\n",
    "y1.insert(4,0)\n",
    "# plot bar graph\n",
    "plt.bar(x, y1, color = 'green')\n",
    "# set graph labels\n",
    "plt.xticks(np.arange(0, 5, step=1))\n",
    "plt.title('Readmittance by Medication Change')\n",
    "plt.xlabel('# of Medication Changes')\n",
    "plt.ylabel('# of Patients')\n",
    "plt.legend(['Readmitted Patients'])\n",
    "plt.show()\n"
   ]
  },
  {
   "cell_type": "code",
   "execution_count": null,
   "metadata": {},
   "outputs": [],
   "source": []
  }
 ],
 "metadata": {
  "kernelspec": {
   "display_name": "Python 3",
   "language": "python",
   "name": "python3"
  },
  "language_info": {
   "codemirror_mode": {
    "name": "ipython",
    "version": 3
   },
   "file_extension": ".py",
   "mimetype": "text/x-python",
   "name": "python",
   "nbconvert_exporter": "python",
   "pygments_lexer": "ipython3",
   "version": "3.7.3"
  }
 },
 "cells": [],
 "metadata": {},
 "nbformat": 4,
 "nbformat_minor": 2
}
